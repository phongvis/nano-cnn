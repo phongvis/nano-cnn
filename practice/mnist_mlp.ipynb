{
 "cells": [
  {
   "cell_type": "markdown",
   "metadata": {
    "Collapsed": "false"
   },
   "source": [
    "# Multi-Layer Perceptron with MNIST\n",
    "*To prepare for the project, I review my knowledge by rewriting MNIST classification using MLP.*"
   ]
  },
  {
   "cell_type": "code",
   "execution_count": 1,
   "metadata": {
    "Collapsed": "false"
   },
   "outputs": [],
   "source": [
    "import numpy as np\n",
    "\n",
    "import torch\n",
    "from torchvision import datasets\n",
    "from torchvision import transforms\n",
    "from torch.utils.data.sampler import SubsetRandomSampler\n",
    "from torch.utils.data import DataLoader\n",
    "from torch import nn, optim\n",
    "from torch.nn import functional as F\n",
    "\n",
    "from sklearn.metrics import accuracy_score\n",
    "\n",
    "import matplotlib.pyplot as plt\n",
    "%matplotlib inline"
   ]
  },
  {
   "cell_type": "markdown",
   "metadata": {
    "Collapsed": "false"
   },
   "source": [
    "## Load and visualize data\n",
    "We can get MNIST data using PyTorch: https://pytorch.org/docs/stable/torchvision/datasets.html#mnist.\n",
    "\n",
    "- download data to a `Dataset`\n",
    "- create a `DataLoader` from `Dataset`\n",
    " - use `Sampler` to split to train and validation sets"
   ]
  },
  {
   "cell_type": "code",
   "execution_count": 2,
   "metadata": {
    "Collapsed": "false"
   },
   "outputs": [],
   "source": [
    "def load_dataset():\n",
    "    transform = transforms.ToTensor()\n",
    "    train_data = datasets.MNIST(root='data', train=True, download=True, transform=transform)\n",
    "    test_data = datasets.MNIST(root='data', train=False, download=True, transform=transform)\n",
    "    return train_data, test_data"
   ]
  },
  {
   "cell_type": "code",
   "execution_count": 3,
   "metadata": {
    "Collapsed": "false"
   },
   "outputs": [
    {
     "data": {
      "text/plain": [
       "(60000, 10000)"
      ]
     },
     "execution_count": 3,
     "metadata": {},
     "output_type": "execute_result"
    }
   ],
   "source": [
    "train_data, test_data = load_dataset()\n",
    "len(train_data), len(test_data)"
   ]
  },
  {
   "cell_type": "code",
   "execution_count": 4,
   "metadata": {
    "Collapsed": "false"
   },
   "outputs": [],
   "source": [
    "def create_data_loaders(train_data, test_data, batch_size=20, train_ratio=0.8):\n",
    "    train_size = len(train_data)\n",
    "    indices = np.arange(train_size)\n",
    "    split = int(train_size * train_ratio)\n",
    "    np.random.shuffle(indices) # Randomly choose data for train and validation\n",
    "    train_index = indices[:split]\n",
    "    valid_index = indices[split:]\n",
    "\n",
    "    train_loader = DataLoader(train_data, batch_size=batch_size, sampler=SubsetRandomSampler(train_index))\n",
    "    valid_loader = DataLoader(train_data, batch_size=batch_size, sampler=SubsetRandomSampler(valid_index))\n",
    "    test_loader = DataLoader(test_data, batch_size=batch_size)\n",
    "    \n",
    "    return train_loader, valid_loader, test_loader"
   ]
  },
  {
   "cell_type": "code",
   "execution_count": 5,
   "metadata": {
    "Collapsed": "false"
   },
   "outputs": [],
   "source": [
    "train_loader, valid_loader, test_loader = create_data_loaders(train_data, test_data, batch_size=32)"
   ]
  },
  {
   "cell_type": "markdown",
   "metadata": {
    "Collapsed": "false"
   },
   "source": [
    "## Visualize a batch of training data\n",
    "- get a batch from data loader\n",
    "- use `imshow`"
   ]
  },
  {
   "cell_type": "code",
   "execution_count": 6,
   "metadata": {
    "Collapsed": "false"
   },
   "outputs": [],
   "source": [
    "def visualize_batch(images, labels, preds=None, n_rows=2, n_cols=10, figsize=(25,4)):\n",
    "    fig = plt.figure(figsize=(25,4))\n",
    "    for i in range(n_rows * n_cols):\n",
    "        ax = fig.add_subplot(n_rows, n_cols, i+1, xticks=[], yticks=[])\n",
    "        ax.imshow(images[i], cmap='gray')\n",
    "        text = labels[i] if preds is None else f'{preds[i]} ({labels[i]})'\n",
    "        color = 'black' if preds is None else ('green' if preds[i] == labels[i] else 'red')\n",
    "        ax.set_title(text, color=color)"
   ]
  },
  {
   "cell_type": "code",
   "execution_count": 7,
   "metadata": {
    "Collapsed": "false"
   },
   "outputs": [
    {
     "data": {
      "image/png": "[encoded data removed]",
      "text/plain": [
       "<Figure size 1800x288 with 20 Axes>"
      ]
     },
     "metadata": {},
     "output_type": "display_data"
    }
   ],
   "source": [
    "images, labels = iter(train_loader).next()\n",
    "images = images.numpy().squeeze()\n",
    "labels = labels.numpy()\n",
    "visualize_batch(images, labels)"
   ]
  },
  {
   "cell_type": "markdown",
   "metadata": {
    "Collapsed": "false"
   },
   "source": [
    "## Define network architecture\n",
    "The network takes on an input of 784-dim tensor (as pixel values of an image) and produces a 10-dim tensor of class scores. I will use two hidden layers and dropout to avoid overfitting."
   ]
  },
  {
   "cell_type": "code",
   "execution_count": 8,
   "metadata": {
    "Collapsed": "false"
   },
   "outputs": [],
   "source": [
    "class Network(nn.Module):\n",
    "    def __init__(self, n_hidden1=512, n_hidden2=128):\n",
    "        super(Network, self).__init__()\n",
    "        self.fc1 = nn.Linear(784, n_hidden1)\n",
    "        self.fc2 = nn.Linear(n_hidden1, n_hidden2)\n",
    "        self.fc3 = nn.Linear(n_hidden2, 10)\n",
    "        self.dropout = nn.Dropout(0.2)\n",
    "    \n",
    "    def forward(self, x):\n",
    "        x = x.view(-1, 784)\n",
    "        x = F.relu(self.fc1(x))\n",
    "        x = self.dropout(x)\n",
    "        x = F.relu(self.fc2(x))\n",
    "        x = self.dropout(x)\n",
    "        x = self.fc3(x)\n",
    "        return x"
   ]
  },
  {
   "cell_type": "code",
   "execution_count": 9,
   "metadata": {
    "Collapsed": "false"
   },
   "outputs": [
    {
     "data": {
      "text/plain": [
       "Network(\n",
       "  (fc1): Linear(in_features=784, out_features=512, bias=True)\n",
       "  (fc2): Linear(in_features=512, out_features=512, bias=True)\n",
       "  (fc3): Linear(in_features=512, out_features=10, bias=True)\n",
       "  (dropout): Dropout(p=0.2, inplace=False)\n",
       ")"
      ]
     },
     "execution_count": 9,
     "metadata": {},
     "output_type": "execute_result"
    }
   ],
   "source": [
    "model = Network()\n",
    "model"
   ]
  },
  {
   "cell_type": "markdown",
   "metadata": {
    "Collapsed": "false"
   },
   "source": [
    "## Train the network"
   ]
  },
  {
   "cell_type": "markdown",
   "metadata": {
    "Collapsed": "false"
   },
   "source": [
    "First is to specify loss function and optimizer."
   ]
  },
  {
   "cell_type": "code",
   "execution_count": 10,
   "metadata": {
    "Collapsed": "false"
   },
   "outputs": [],
   "source": [
    "criterion = nn.CrossEntropyLoss() # takes scores as input\n",
    "optimizer = optim.SGD(model.parameters(), lr=0.01)"
   ]
  },
  {
   "cell_type": "markdown",
   "metadata": {
    "Collapsed": "false"
   },
   "source": [
    "Remember to set the training mode and follow the steps to train each batch:\n",
    "1. Clear the gradients of all optimized variables\n",
    "2. Run the forward pass\n",
    "3. Calculate the loss\n",
    "4. Run the backward propagation to compute the gradient of the loss w.r.t model parameters\n",
    "5. Update parameters using optimization step\n",
    "6. Update average training loss for monitoring\n",
    "\n",
    "After training the model for each epoch, calculate the validation loss with step 2, 3 and 6."
   ]
  },
  {
   "cell_type": "code",
   "execution_count": 11,
   "metadata": {
    "Collapsed": "false"
   },
   "outputs": [],
   "source": [
    "def train_epoch(model, loader, criterion, optimizer):\n",
    "    total_loss = 0\n",
    "    model.train()\n",
    "    \n",
    "    for data, target in loader:\n",
    "        optimizer.zero_grad()\n",
    "        output = model(data)\n",
    "        loss = criterion(output, target)\n",
    "        loss.backward()\n",
    "        optimizer.step()\n",
    "        total_loss += loss.item() * data.size(0)\n",
    "\n",
    "    return total_loss / len(loader.sampler)\n",
    "\n",
    "def validate_epoch(model, loader, criterion):\n",
    "    total_loss = 0\n",
    "    model.eval()\n",
    "    \n",
    "    for data, target in loader:\n",
    "        output = model(data)\n",
    "        loss = criterion(output, target)\n",
    "        total_loss += loss.item() * data.size(0)\n",
    "\n",
    "    return total_loss / len(loader.sampler)\n",
    "\n",
    "def train_model(model, train_loader, valid_loader, criterion, optimizer, n_epochs=1):\n",
    "    valid_loss_min = np.Inf\n",
    "    \n",
    "    for epoch in range(n_epochs):\n",
    "        train_loss = train_epoch(model, train_loader, criterion, optimizer)\n",
    "        valid_loss = validate_epoch(model, valid_loader, criterion)\n",
    "        \n",
    "        print(f'Epoch: {epoch+1} \\tTraining loss: {train_loss:.3f} \\tValidation loss: {valid_loss:.3f}')\n",
    "        \n",
    "        # Save model if validation has decreases\n",
    "        if valid_loss < valid_loss_min:\n",
    "            print(f'Validation loss decreased ({valid_loss_min:.3f} -> {valid_loss:.3f}). Saving model...')\n",
    "            valid_loss_min = valid_loss\n",
    "            torch.save(model.state_dict(), 'model.pt')"
   ]
  },
  {
   "cell_type": "code",
   "execution_count": 16,
   "metadata": {
    "Collapsed": "false"
   },
   "outputs": [
    {
     "name": "stdout",
     "output_type": "stream",
     "text": [
      "Epoch: 1 \tTraining loss: 0.235 \tValidation loss: 0.206\n",
      "Validation loss decreased (inf -> 0.206). Saving model...\n",
      "Epoch: 2 \tTraining loss: 0.210 \tValidation loss: 0.188\n",
      "Validation loss decreased (0.206 -> 0.188). Saving model...\n",
      "Epoch: 3 \tTraining loss: 0.189 \tValidation loss: 0.175\n",
      "Validation loss decreased (0.188 -> 0.175). Saving model...\n",
      "Epoch: 4 \tTraining loss: 0.176 \tValidation loss: 0.161\n",
      "Validation loss decreased (0.175 -> 0.161). Saving model...\n",
      "Epoch: 5 \tTraining loss: 0.160 \tValidation loss: 0.150\n",
      "Validation loss decreased (0.161 -> 0.150). Saving model...\n",
      "Epoch: 6 \tTraining loss: 0.147 \tValidation loss: 0.140\n",
      "Validation loss decreased (0.150 -> 0.140). Saving model...\n",
      "Epoch: 7 \tTraining loss: 0.137 \tValidation loss: 0.133\n",
      "Validation loss decreased (0.140 -> 0.133). Saving model...\n",
      "Epoch: 8 \tTraining loss: 0.129 \tValidation loss: 0.128\n",
      "Validation loss decreased (0.133 -> 0.128). Saving model...\n",
      "Epoch: 9 \tTraining loss: 0.122 \tValidation loss: 0.123\n",
      "Validation loss decreased (0.128 -> 0.123). Saving model...\n",
      "Epoch: 10 \tTraining loss: 0.114 \tValidation loss: 0.116\n",
      "Validation loss decreased (0.123 -> 0.116). Saving model...\n",
      "Epoch: 11 \tTraining loss: 0.108 \tValidation loss: 0.111\n",
      "Validation loss decreased (0.116 -> 0.111). Saving model...\n",
      "Epoch: 12 \tTraining loss: 0.101 \tValidation loss: 0.106\n",
      "Validation loss decreased (0.111 -> 0.106). Saving model...\n",
      "Epoch: 13 \tTraining loss: 0.095 \tValidation loss: 0.103\n",
      "Validation loss decreased (0.106 -> 0.103). Saving model...\n",
      "Epoch: 14 \tTraining loss: 0.090 \tValidation loss: 0.100\n",
      "Validation loss decreased (0.103 -> 0.100). Saving model...\n",
      "Epoch: 15 \tTraining loss: 0.086 \tValidation loss: 0.098\n",
      "Validation loss decreased (0.100 -> 0.098). Saving model...\n",
      "Epoch: 16 \tTraining loss: 0.083 \tValidation loss: 0.094\n",
      "Validation loss decreased (0.098 -> 0.094). Saving model...\n",
      "Epoch: 17 \tTraining loss: 0.078 \tValidation loss: 0.091\n",
      "Validation loss decreased (0.094 -> 0.091). Saving model...\n",
      "Epoch: 18 \tTraining loss: 0.076 \tValidation loss: 0.090\n",
      "Validation loss decreased (0.091 -> 0.090). Saving model...\n",
      "Epoch: 19 \tTraining loss: 0.071 \tValidation loss: 0.088\n",
      "Validation loss decreased (0.090 -> 0.088). Saving model...\n",
      "Epoch: 20 \tTraining loss: 0.068 \tValidation loss: 0.087\n",
      "Validation loss decreased (0.088 -> 0.087). Saving model...\n",
      "Epoch: 21 \tTraining loss: 0.066 \tValidation loss: 0.084\n",
      "Validation loss decreased (0.087 -> 0.084). Saving model...\n",
      "Epoch: 22 \tTraining loss: 0.063 \tValidation loss: 0.082\n",
      "Validation loss decreased (0.084 -> 0.082). Saving model...\n",
      "Epoch: 23 \tTraining loss: 0.060 \tValidation loss: 0.083\n",
      "Epoch: 24 \tTraining loss: 0.060 \tValidation loss: 0.081\n",
      "Validation loss decreased (0.082 -> 0.081). Saving model...\n",
      "Epoch: 25 \tTraining loss: 0.056 \tValidation loss: 0.080\n",
      "Validation loss decreased (0.081 -> 0.080). Saving model...\n",
      "Epoch: 26 \tTraining loss: 0.053 \tValidation loss: 0.078\n",
      "Validation loss decreased (0.080 -> 0.078). Saving model...\n",
      "Epoch: 27 \tTraining loss: 0.052 \tValidation loss: 0.076\n",
      "Validation loss decreased (0.078 -> 0.076). Saving model...\n",
      "Epoch: 28 \tTraining loss: 0.049 \tValidation loss: 0.076\n",
      "Epoch: 29 \tTraining loss: 0.047 \tValidation loss: 0.074\n",
      "Validation loss decreased (0.076 -> 0.074). Saving model...\n",
      "Epoch: 30 \tTraining loss: 0.046 \tValidation loss: 0.075\n"
     ]
    }
   ],
   "source": [
    "train_model(model, train_loader, valid_loader, criterion, optimizer, n_epochs=30)"
   ]
  },
  {
   "cell_type": "markdown",
   "metadata": {
    "Collapsed": "false"
   },
   "source": [
    "## Test the trained network"
   ]
  },
  {
   "cell_type": "code",
   "execution_count": 13,
   "metadata": {
    "Collapsed": "false"
   },
   "outputs": [],
   "source": [
    "def test_model(model, loader):\n",
    "    total_loss = 0\n",
    "    model.eval()\n",
    "    preds = torch.LongTensor([])\n",
    "    labels = torch.LongTensor([])\n",
    "    \n",
    "    for data, target in loader:\n",
    "        output = model(data)\n",
    "        loss = criterion(output, target)\n",
    "        total_loss += loss.item() * data.size(0)\n",
    "        \n",
    "        _, pred = torch.max(output, 1)\n",
    "        preds = torch.cat((preds, pred))\n",
    "        labels = torch.cat((labels, target))\n",
    "        \n",
    "    total_loss /= len(loader.sampler)\n",
    "    print(f'Test loss: {total_loss:.3f}')\n",
    "    \n",
    "    acc = accuracy_score(labels, preds)\n",
    "    print(f'Accuracy: {acc:.3f}')"
   ]
  },
  {
   "cell_type": "code",
   "execution_count": 17,
   "metadata": {
    "Collapsed": "false"
   },
   "outputs": [
    {
     "name": "stdout",
     "output_type": "stream",
     "text": [
      "Test loss: 0.067\n",
      "Accuracy: 0.979\n"
     ]
    }
   ],
   "source": [
    "model.load_state_dict(torch.load('model.pt'))\n",
    "test_model(model, test_loader)"
   ]
  },
  {
   "cell_type": "markdown",
   "metadata": {
    "Collapsed": "false"
   },
   "source": [
    "That's it for a multi-layer perceptron with 2 hidden fully connected layers. The model gave an accuracy of 97.9% after 30 epochs of training. Now, have a look at the predictions."
   ]
  },
  {
   "cell_type": "markdown",
   "metadata": {
    "Collapsed": "false"
   },
   "source": [
    "## Visualize sample test results"
   ]
  },
  {
   "cell_type": "code",
   "execution_count": 15,
   "metadata": {
    "Collapsed": "false"
   },
   "outputs": [
    {
     "data": {
      "image/png": "[encoded data removed]",
      "text/plain": [
       "<Figure size 1800x288 with 20 Axes>"
      ]
     },
     "metadata": {},
     "output_type": "display_data"
    }
   ],
   "source": [
    "images, labels = iter(test_loader).next()\n",
    "output = model(images)\n",
    "_, preds = torch.max(output, 1)\n",
    "images = images.numpy().squeeze()\n",
    "labels = labels.numpy()\n",
    "visualize_batch(images, labels, preds)"
   ]
  }
 ],
 "metadata": {
  "kernelspec": {
   "display_name": "Python 3",
   "language": "python",
   "name": "python3"
  },
  "language_info": {
   "codemirror_mode": {
    "name": "ipython",
    "version": 3
   },
   "file_extension": ".py",
   "mimetype": "text/x-python",
   "name": "python",
   "nbconvert_exporter": "python",
   "pygments_lexer": "ipython3",
   "version": "3.7.4"
  }
 },
 "nbformat": 4,
 "nbformat_minor": 4
}
