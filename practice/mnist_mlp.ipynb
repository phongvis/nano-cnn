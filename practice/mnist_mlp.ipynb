{
 "cells": [
  {
   "cell_type": "markdown",
   "metadata": {
    "Collapsed": "false"
   },
   "source": [
    "# Multi-Layer Perceptron with MNIST\n",
    "*To prepare for the project, I review my knowledge by rewriting MNIST classification using MLP.*"
   ]
  },
  {
   "cell_type": "code",
   "execution_count": 81,
   "metadata": {
    "Collapsed": "false"
   },
   "outputs": [],
   "source": [
    "import numpy as np\n",
    "\n",
    "import torch\n",
    "from torchvision import datasets\n",
    "from torchvision import transforms\n",
    "from torch.utils.data.sampler import SubsetRandomSampler\n",
    "from torch.utils.data import DataLoader\n",
    "from torch import nn, optim\n",
    "from torch.nn import functional as F\n",
    "\n",
    "from sklearn.metrics import accuracy_score\n",
    "\n",
    "import matplotlib.pyplot as plt\n",
    "%matplotlib inline"
   ]
  },
  {
   "cell_type": "markdown",
   "metadata": {
    "Collapsed": "false"
   },
   "source": [
    "## Load and visualize data\n",
    "We can get MNIST data using PyTorch: https://pytorch.org/docs/stable/torchvision/datasets.html#mnist.\n",
    "\n",
    "- download data to a `Dataset`\n",
    "- create a `DataLoader` from `Dataset`\n",
    " - use `Sampler` to split to train and validation sets"
   ]
  },
  {
   "cell_type": "code",
   "execution_count": 2,
   "metadata": {
    "Collapsed": "false"
   },
   "outputs": [],
   "source": [
    "def load_dataset():\n",
    "    transform = transforms.ToTensor()\n",
    "    train_data = datasets.MNIST(root='data', train=True, download=True, transform=transform)\n",
    "    test_data = datasets.MNIST(root='data', train=False, download=True, transform=transform)\n",
    "    return train_data, test_data"
   ]
  },
  {
   "cell_type": "code",
   "execution_count": 3,
   "metadata": {
    "Collapsed": "false"
   },
   "outputs": [
    {
     "data": {
      "text/plain": [
       "(60000, 10000)"
      ]
     },
     "execution_count": 3,
     "metadata": {},
     "output_type": "execute_result"
    }
   ],
   "source": [
    "train_data, test_data = load_dataset()\n",
    "len(train_data), len(test_data)"
   ]
  },
  {
   "cell_type": "code",
   "execution_count": 4,
   "metadata": {
    "Collapsed": "false"
   },
   "outputs": [],
   "source": [
    "def create_data_loaders(train_data, test_data, batch_size=20, train_ratio=0.8):\n",
    "    train_size = len(train_data)\n",
    "    indices = np.arange(train_size)\n",
    "    split = int(train_size * train_ratio)\n",
    "    np.random.shuffle(indices) # Randomly choose data for train and validation\n",
    "    train_index = indices[:split]\n",
    "    valid_index = indices[split:]\n",
    "\n",
    "    train_loader = DataLoader(train_data, batch_size=batch_size, sampler=SubsetRandomSampler(train_index))\n",
    "    valid_loader = DataLoader(train_data, batch_size=batch_size, sampler=SubsetRandomSampler(valid_index))\n",
    "    test_loader = DataLoader(test_data, batch_size=batch_size)\n",
    "    \n",
    "    return train_loader, valid_loader, test_loader"
   ]
  },
  {
   "cell_type": "code",
   "execution_count": 26,
   "metadata": {
    "Collapsed": "false"
   },
   "outputs": [],
   "source": [
    "train_loader, valid_loader, test_loader = create_data_loaders(train_data, test_data, batch_size=32)"
   ]
  },
  {
   "cell_type": "markdown",
   "metadata": {
    "Collapsed": "true"
   },
   "source": [
    "## Visualize a batch of training data\n",
    "- get a batch from data loader\n",
    "- use `imshow`"
   ]
  },
  {
   "cell_type": "code",
   "execution_count": 6,
   "metadata": {
    "Collapsed": "false"
   },
   "outputs": [
    {
     "data": {
      "text/plain": [
       "(1, 28, 28)"
      ]
     },
     "execution_count": 6,
     "metadata": {},
     "output_type": "execute_result"
    }
   ],
   "source": [
    "dataiter = iter(train_loader)\n",
    "images, labels = dataiter.next()\n",
    "images = images.numpy()\n",
    "labels = labels.numpy()\n",
    "images[0].shape"
   ]
  },
  {
   "cell_type": "code",
   "execution_count": 7,
   "metadata": {
    "Collapsed": "false"
   },
   "outputs": [
    {
     "data": {
      "image/png": "[encoded data removed]",
      "text/plain": [
       "<Figure size 1800x288 with 20 Axes>"
      ]
     },
     "metadata": {},
     "output_type": "display_data"
    }
   ],
   "source": [
    "fig = plt.figure(figsize=(25,4))\n",
    "for i in range(20):\n",
    "    ax = fig.add_subplot(2, 10, i+1, xticks=[], yticks=[])\n",
    "    ax.imshow(np.squeeze(images[i]), cmap='gray')\n",
    "    ax.set_title(labels[i])"
   ]
  },
  {
   "cell_type": "markdown",
   "metadata": {
    "Collapsed": "false"
   },
   "source": [
    "## Define network architecture\n",
    "The network takes on an input of 784-dim tensor (as pixel values of an image) and produces a 10-dim tensor of class scores. I will use two hidden layers and dropout to avoid overfitting."
   ]
  },
  {
   "cell_type": "code",
   "execution_count": 8,
   "metadata": {
    "Collapsed": "false"
   },
   "outputs": [],
   "source": [
    "class Network(nn.Module):\n",
    "    def __init__(self, n_hidden1=512, n_hidden2=128):\n",
    "        super(Network, self).__init__()\n",
    "        self.fc1 = nn.Linear(784, n_hidden1)\n",
    "        self.fc2 = nn.Linear(n_hidden1, n_hidden2)\n",
    "        self.fc3 = nn.Linear(n_hidden2, 10)\n",
    "        self.dropout = nn.Dropout(0.2)\n",
    "    \n",
    "    def forward(self, x):\n",
    "        x = x.view(-1, 784)\n",
    "        x = F.relu(self.fc1(x))\n",
    "        x = self.dropout(x)\n",
    "        x = F.relu(self.fc2(x))\n",
    "        x = self.dropout(x)\n",
    "        x = self.fc3(x)\n",
    "        return x"
   ]
  },
  {
   "cell_type": "code",
   "execution_count": 9,
   "metadata": {
    "Collapsed": "false"
   },
   "outputs": [
    {
     "data": {
      "text/plain": [
       "Network(\n",
       "  (fc1): Linear(in_features=784, out_features=512, bias=True)\n",
       "  (fc2): Linear(in_features=512, out_features=128, bias=True)\n",
       "  (fc3): Linear(in_features=128, out_features=10, bias=True)\n",
       "  (dropout): Dropout(p=0.2, inplace=False)\n",
       ")"
      ]
     },
     "execution_count": 9,
     "metadata": {},
     "output_type": "execute_result"
    }
   ],
   "source": [
    "model = Network()\n",
    "model"
   ]
  },
  {
   "cell_type": "markdown",
   "metadata": {
    "Collapsed": "false"
   },
   "source": [
    "## Train the network"
   ]
  },
  {
   "cell_type": "markdown",
   "metadata": {
    "Collapsed": "false"
   },
   "source": [
    "First is to specify loss function and optimizer."
   ]
  },
  {
   "cell_type": "code",
   "execution_count": 13,
   "metadata": {
    "Collapsed": "false"
   },
   "outputs": [],
   "source": [
    "criterion = nn.CrossEntropyLoss() # takes scores as input\n",
    "optimizer = optim.SGD(model.parameters(), lr=0.01)"
   ]
  },
  {
   "cell_type": "markdown",
   "metadata": {
    "Collapsed": "false"
   },
   "source": [
    "Remember to set the training mode and follow the steps to train each batch:\n",
    "1. Clear the gradients of all optimized variables\n",
    "2. Run the forward pass\n",
    "3. Calculate the loss\n",
    "4. Run the backward propagation to compute the gradient of the loss w.r.t model parameters\n",
    "5. Update parameters using optimization step\n",
    "6. Update average training loss for monitoring\n",
    "\n",
    "After training the model for each epoch, calculate the validation loss with step 2, 3 and 6."
   ]
  },
  {
   "cell_type": "code",
   "execution_count": 86,
   "metadata": {
    "Collapsed": "false"
   },
   "outputs": [],
   "source": [
    "def train_epoch(model, loader, criterion, optimizer):\n",
    "    total_loss = 0\n",
    "    model.train()\n",
    "    \n",
    "    for data, target in loader:\n",
    "        optimizer.zero_grad()\n",
    "        output = model(data)\n",
    "        loss = criterion(output, target)\n",
    "        loss.backward()\n",
    "        optimizer.step()\n",
    "        total_loss += loss.item() * data.size(0)\n",
    "\n",
    "    return total_loss / len(loader.sampler)\n",
    "\n",
    "def validate_epoch(model, loader, criterion):\n",
    "    total_loss = 0\n",
    "    model.eval()\n",
    "    \n",
    "    for data, target in loader:\n",
    "        output = model(data)\n",
    "        loss = criterion(output, target)\n",
    "        total_loss += loss.item() * data.size(0)\n",
    "\n",
    "    return total_loss / len(loader.sampler)\n",
    "\n",
    "def train_model(model, train_loader, valid_loader, criterion, optimizer, n_epochs=1):\n",
    "    valid_loss_min = np.Inf\n",
    "    \n",
    "    for epoch in range(n_epochs):\n",
    "        train_loss = train_epoch(model, train_loader, criterion, optimizer)\n",
    "        valid_loss = validate_epoch(model, valid_loader, criterion)\n",
    "        \n",
    "        print(f'Epoch: {epoch+1} \\tTraining loss: {train_loss:.3f} \\tValidation loss: {valid_loss:.3f}')\n",
    "        \n",
    "        # Save model if validation has decreases\n",
    "        if valid_loss < valid_loss_min:\n",
    "            print(f'Validation loss decreased ({valid_loss_min:.3f} -> {valid_loss:.3f}). Saving model...')\n",
    "            valid_loss_min = valid_loss\n",
    "            torch.save(model.state_dict(), 'model.pt')"
   ]
  },
  {
   "cell_type": "code",
   "execution_count": 88,
   "metadata": {
    "Collapsed": "false"
   },
   "outputs": [
    {
     "name": "stdout",
     "output_type": "stream",
     "text": [
      "Epoch: 1 \tTraining loss: 0.072 \tValidation loss: 0.081\n",
      "Validation loss decreased (inf -> 0.081). Saving model...\n",
      "Epoch: 2 \tTraining loss: 0.069 \tValidation loss: 0.079\n",
      "Validation loss decreased (0.081 -> 0.079). Saving model...\n",
      "Epoch: 3 \tTraining loss: 0.065 \tValidation loss: 0.078\n",
      "Validation loss decreased (0.079 -> 0.078). Saving model...\n",
      "Epoch: 4 \tTraining loss: 0.063 \tValidation loss: 0.076\n",
      "Validation loss decreased (0.078 -> 0.076). Saving model...\n",
      "Epoch: 5 \tTraining loss: 0.060 \tValidation loss: 0.075\n",
      "Validation loss decreased (0.076 -> 0.075). Saving model...\n"
     ]
    }
   ],
   "source": [
    "train_model(model, train_loader, valid_loader, criterion, optimizer, n_epochs=5)"
   ]
  },
  {
   "cell_type": "markdown",
   "metadata": {
    "Collapsed": "false"
   },
   "source": [
    "## Test the trained network"
   ]
  },
  {
   "cell_type": "code",
   "execution_count": 89,
   "metadata": {
    "Collapsed": "false"
   },
   "outputs": [],
   "source": [
    "def test_model(model, loader):\n",
    "    total_loss = 0\n",
    "    model.eval()\n",
    "    preds = torch.LongTensor([])\n",
    "    labels = torch.LongTensor([])\n",
    "    \n",
    "    for data, target in loader:\n",
    "        output = model(data)\n",
    "        loss = criterion(output, target)\n",
    "        total_loss += loss.item() * data.size(0)\n",
    "        \n",
    "        _, pred = torch.max(output, 1)\n",
    "        preds = torch.cat((preds, pred))\n",
    "        labels = torch.cat((labels, target))\n",
    "        \n",
    "    total_loss /= len(loader.sampler)\n",
    "    print(f'Test loss: {total_loss:.3f}')\n",
    "    \n",
    "    acc = accuracy_score(labels, preds)\n",
    "    print(f'Accuracy: {acc:.2f}')"
   ]
  },
  {
   "cell_type": "code",
   "execution_count": 90,
   "metadata": {
    "Collapsed": "false"
   },
   "outputs": [
    {
     "name": "stdout",
     "output_type": "stream",
     "text": [
      "Test loss: 0.072\n",
      "Accuracy: 0.98\n"
     ]
    }
   ],
   "source": [
    "model.load_state_dict(torch.load('model.pt'))\n",
    "test_model(model, test_loader)"
   ]
  },
  {
   "cell_type": "markdown",
   "metadata": {
    "Collapsed": "false"
   },
   "source": [
    "That's it for a multi-layer perceptron with 2 hidden fully connected layers. The model gave an accuracy of 98% after 5 epochs of training."
   ]
  }
 ],
 "metadata": {
  "kernelspec": {
   "display_name": "Python 3",
   "language": "python",
   "name": "python3"
  },
  "language_info": {
   "codemirror_mode": {
    "name": "ipython",
    "version": 3
   },
   "file_extension": ".py",
   "mimetype": "text/x-python",
   "name": "python",
   "nbconvert_exporter": "python",
   "pygments_lexer": "ipython3",
   "version": "3.7.4"
  }
 },
 "nbformat": 4,
 "nbformat_minor": 4
}
